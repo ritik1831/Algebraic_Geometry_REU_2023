{
  "nbformat": 4,
  "nbformat_minor": 0,
  "metadata": {
    "colab": {
      "provenance": [],
      "include_colab_link": true
    },
    "kernelspec": {
      "name": "python3",
      "display_name": "Python 3"
    },
    "language_info": {
      "name": "python"
    }
  },
  "cells": [
    {
      "cell_type": "markdown",
      "metadata": {
        "id": "view-in-github",
        "colab_type": "text"
      },
      "source": [
        "<a href=\"https://colab.research.google.com/github/ritik1831/Algebraic_Geometry_REU_2023/blob/main/Algebraic_Geometry_REU_2023.ipynb\" target=\"_parent\"><img src=\"https://colab.research.google.com/assets/colab-badge.svg\" alt=\"Open In Colab\"/></a>"
      ]
    },
    {
      "cell_type": "code",
      "execution_count": null,
      "metadata": {
        "id": "uk_ydvVjfN8g"
      },
      "outputs": [],
      "source": [
        "'''\n",
        "This code contains the functions neccessary to 1.) Generate homogeneous coordinates in n variables over Z_p, and\n",
        "2.) Generate all distinct, homogeneous, degree d polynomials over Z_p.\n",
        "\n",
        "We have three parameters, (i) the prime p, (ii) the degree d, and (iii) the number of variables n.\n",
        "\n",
        "6/12/2023: Removed duplicate polynomial multiples.\n",
        "6/13/2023: Improved efficiency of generate_all_polynomials function using some linear algebra.\n",
        "'''\n",
        "\n",
        "from sympy import symbols, latex\n",
        "from itertools import product\n",
        "import numpy as np\n",
        "import matplotlib.pyplot as plt\n",
        "from scipy.stats import skew, kurtosis\n",
        "import warnings\n",
        "\n",
        "def countBase(digits, p):\n",
        "    out = []\n",
        "    # Recursive function to generate tuples representing digits in base p\n",
        "    if digits == 1:\n",
        "        for num in range(0, p):\n",
        "            out.append((num,))\n",
        "        return out\n",
        "    for prev in countBase(digits - 1, p):\n",
        "        for num in range(0, p):\n",
        "            out.append((num,) + prev)\n",
        "    return out\n",
        "\n",
        "def makeHomogeneousPoints(dimension, p):\n",
        "    out = [()]\n",
        "    # Generate all possible homogeneous coordinates using countBase function\n",
        "    for n in range(0, dimension):\n",
        "        out += countBase(n + 1, p)\n",
        "    for n in range(0, len(out)):\n",
        "        out[n] = (1,) + out[n]\n",
        "        for c in range(len(out[n]), dimension + 1):\n",
        "            out[n] = (0,) + out[n]\n",
        "    return out\n",
        "\n",
        "def generate_all_monomials(d, n):\n",
        "    if n == 1:\n",
        "        return {symbols('x')**d}  # When n = 1, return a set with a single symbol raised to the power of d\n",
        "\n",
        "    variables = symbols(' '.join(['x_' + str(i) for i in range(1, n + 1)]))\n",
        "    monomials = set()\n",
        "\n",
        "    # Generate all combinations of powers for the variables using the product function\n",
        "    for powers_combination in product(range(d + 1), repeat=n):\n",
        "        # Check if the powers combination satisfies the total degree condition\n",
        "        if sum(powers_combination) == d:\n",
        "            monomial = 1\n",
        "            # Construct the monomial using the powers and variables\n",
        "            for power, variable in zip(powers_combination, variables):\n",
        "                monomial *= variable**power\n",
        "            monomials.add(monomial)\n",
        "\n",
        "    return monomials\n",
        "\n",
        "def generate_all_polynomials(d, p, n):\n",
        "    # Generate all monomials of degree d in n variables\n",
        "    monomials = generate_all_monomials(d, n)\n",
        "    polynomials = set()\n",
        "\n",
        "    coeff_combinations = np.array(list(makeHomogeneousPoints(len(monomials) - 1, p)))\n",
        "\n",
        "    # Generate the polynomials using linear algebra operations\n",
        "    polynomial_matrix = np.dot(coeff_combinations, np.array(list(monomials)))\n",
        "\n",
        "    # Filter out the zero polynomials\n",
        "    nonzero_polynomials = polynomial_matrix[polynomial_matrix != 0]\n",
        "\n",
        "    # Convert the polynomials to SymPy expressions\n",
        "    for polynomial in nonzero_polynomials:\n",
        "        polynomials.add(polynomial)\n",
        "\n",
        "    return polynomials\n",
        "\n",
        " ########################################################################################################################################################\n"
      ]
    },
    {
      "cell_type": "code",
      "source": [
        "''' These are the parameters '''\n",
        "#########################################################\n",
        "p = 5 # Prime in Z_p\n",
        "d = 2  # Degree of homogenous polynomials\n",
        "n = 2  # Number of variables in Z_p[x_1 . . . x_n]\n",
        "\n",
        "dim = n-1  # Dimension of P^n\n",
        "#########################################################\n",
        "\n",
        "polynomials = generate_all_polynomials(d, p, n) # Generate degree d homogeneous polynomials\n",
        "points = makeHomogeneousPoints(dim, p)  # Generate homogeneous coordinates"
      ],
      "metadata": {
        "id": "2VhroVNwC26r"
      },
      "execution_count": null,
      "outputs": []
    },
    {
      "cell_type": "code",
      "source": [
        "''' This cell prints each polynomial with its respective zero set. We also\n",
        "create a list that stores the number of roots of each polynomial.'''\n",
        "\n",
        "zero_dist = []  # zero_dist[i] = number of zeros of ith polynomial\n",
        "space_fillers = []\n",
        "\n",
        "for i, polynomial in enumerate(polynomials): # For each respective polynomial\n",
        "    latex_output = latex(polynomial)\n",
        "    zero_set = [] # Initialize zero set\n",
        "    for point in points: # For each homogenous coordinate\n",
        "        value = polynomial.subs(zip(symbols('x_1 x_2 x_3'), point))\n",
        "        if value % p == 0:\n",
        "            zero_set.append(point) # If a point evaluates to a multiple of p, add it to the zero set\n",
        "\n",
        "    if len(zero_set) == len(points):\n",
        "      space_fillers.append(polynomial)\n",
        "\n",
        "    zero_dist.append(len(zero_set))  # Append the number of zeros to the list\n",
        "    print(f\"Polynomial {i+1}: {latex_output}\") # Print the polynomial\n",
        "    print(f\"Zero set: {zero_set}\") # Print its zero set"
      ],
      "metadata": {
        "id": "6gSYCysSijTZ",
        "colab": {
          "base_uri": "https://localhost:8080/"
        },
        "outputId": "e8dbd29c-a62a-41aa-c91a-8d551f914c18"
      },
      "execution_count": null,
      "outputs": [
        {
          "output_type": "stream",
          "name": "stdout",
          "text": [
            "Polynomial 1: x_{1}^{2} + 3 x_{1} x_{2} + 2 x_{2}^{2}\n",
            "Zero set: [(1, 2), (1, 4)]\n",
            "Polynomial 2: x_{1}^{2} + 4 x_{1} x_{2} + x_{2}^{2}\n",
            "Zero set: []\n",
            "Polynomial 3: x_{1}^{2} + 4 x_{1} x_{2}\n",
            "Zero set: [(0, 1), (1, 1)]\n",
            "Polynomial 4: x_{1}^{2} + 2 x_{1} x_{2} + 4 x_{2}^{2}\n",
            "Zero set: []\n",
            "Polynomial 5: x_{1}^{2}\n",
            "Zero set: [(0, 1)]\n",
            "Polynomial 6: x_{1}^{2} + x_{1} x_{2} + 2 x_{2}^{2}\n",
            "Zero set: []\n",
            "Polynomial 7: x_{1} x_{2} + x_{2}^{2}\n",
            "Zero set: [(1, 0), (1, 4)]\n",
            "Polynomial 8: x_{1}^{2} + 3 x_{1} x_{2} + 3 x_{2}^{2}\n",
            "Zero set: []\n",
            "Polynomial 9: x_{1}^{2} + x_{1} x_{2} + 3 x_{2}^{2}\n",
            "Zero set: [(1, 1), (1, 2)]\n",
            "Polynomial 10: x_{1}^{2} + 2 x_{1} x_{2} + 2 x_{2}^{2}\n",
            "Zero set: [(1, 1), (1, 3)]\n",
            "Polynomial 11: x_{1}^{2} + 2 x_{2}^{2}\n",
            "Zero set: []\n",
            "Polynomial 12: x_{1}^{2} + 4 x_{2}^{2}\n",
            "Zero set: [(1, 1), (1, 4)]\n",
            "Polynomial 13: x_{1} x_{2}\n",
            "Zero set: [(0, 1), (1, 0)]\n",
            "Polynomial 14: x_{1}^{2} + 2 x_{1} x_{2} + 3 x_{2}^{2}\n",
            "Zero set: []\n",
            "Polynomial 15: x_{2}^{2}\n",
            "Zero set: [(1, 0)]\n",
            "Polynomial 16: x_{1}^{2} + 4 x_{1} x_{2} + 4 x_{2}^{2}\n",
            "Zero set: [(1, 2)]\n",
            "Polynomial 17: x_{1} x_{2} + 4 x_{2}^{2}\n",
            "Zero set: [(1, 0), (1, 1)]\n",
            "Polynomial 18: x_{1}^{2} + 3 x_{1} x_{2} + x_{2}^{2}\n",
            "Zero set: [(1, 1)]\n",
            "Polynomial 19: x_{1}^{2} + 4 x_{1} x_{2} + 2 x_{2}^{2}\n",
            "Zero set: []\n",
            "Polynomial 20: x_{1}^{2} + x_{1} x_{2} + x_{2}^{2}\n",
            "Zero set: []\n",
            "Polynomial 21: x_{1}^{2} + 3 x_{1} x_{2}\n",
            "Zero set: [(0, 1), (1, 3)]\n",
            "Polynomial 22: x_{1}^{2} + x_{2}^{2}\n",
            "Zero set: [(1, 2), (1, 3)]\n",
            "Polynomial 23: x_{1}^{2} + x_{1} x_{2}\n",
            "Zero set: [(0, 1), (1, 4)]\n",
            "Polynomial 24: x_{1} x_{2} + 2 x_{2}^{2}\n",
            "Zero set: [(1, 0), (1, 2)]\n",
            "Polynomial 25: x_{1} x_{2} + 3 x_{2}^{2}\n",
            "Zero set: [(1, 0), (1, 3)]\n",
            "Polynomial 26: x_{1}^{2} + 4 x_{1} x_{2} + 3 x_{2}^{2}\n",
            "Zero set: [(1, 3), (1, 4)]\n",
            "Polynomial 27: x_{1}^{2} + 2 x_{1} x_{2} + x_{2}^{2}\n",
            "Zero set: [(1, 4)]\n",
            "Polynomial 28: x_{1}^{2} + 3 x_{2}^{2}\n",
            "Zero set: []\n",
            "Polynomial 29: x_{1}^{2} + 2 x_{1} x_{2}\n",
            "Zero set: [(0, 1), (1, 2)]\n",
            "Polynomial 30: x_{1}^{2} + 3 x_{1} x_{2} + 4 x_{2}^{2}\n",
            "Zero set: []\n",
            "Polynomial 31: x_{1}^{2} + x_{1} x_{2} + 4 x_{2}^{2}\n",
            "Zero set: [(1, 3)]\n"
          ]
        }
      ]
    },
    {
      "cell_type": "code",
      "source": [
        "''' This cell prints the polynomials that vanish on every coordinate. '''\n",
        "print(\"Space-filling polynomials:\")\n",
        "for i, curve in enumerate(space_fillers):\n",
        "    latex_output = latex(curve)\n",
        "    print(f\"Curve {i+1}: {latex_output}\") # Print the polynomial"
      ],
      "metadata": {
        "id": "AM5oRk9aCtJc",
        "colab": {
          "base_uri": "https://localhost:8080/"
        },
        "outputId": "004f42bf-8b24-4dca-8ebe-7e63674a944b"
      },
      "execution_count": null,
      "outputs": [
        {
          "output_type": "stream",
          "name": "stdout",
          "text": [
            "Space-filling polynomials:\n"
          ]
        }
      ]
    },
    {
      "cell_type": "code",
      "source": [
        "''' This cell computes the mean and standard deviation. For fun, I've included skewness and kurtosis. '''\n",
        "\n",
        "max_roots = max(zero_dist)\n",
        "total_roots = len(points)\n",
        "\n",
        "# Compute mean, standard deviation, skewness, kurtosis\n",
        "mean = np.mean(zero_dist)\n",
        "std_dev = np.std(zero_dist)\n",
        "skewness = skew(zero_dist)\n",
        "kurt = kurtosis(zero_dist)\n",
        "\n",
        "# If one of the moments cannot be computed\n",
        "warnings.filterwarnings(\"ignore\")\n",
        "\n",
        "# Print mean, standard deviation, skewness, kurtosis, and total possible roots\n",
        "print(f\"Mean: {mean:.2f}\")\n",
        "print(f\"Standard Deviation: {std_dev:.2f}\")\n",
        "print(f\"Skewness: {skewness:.2f}\")\n",
        "print(f\"Kurtosis: {kurt:.2f}\")\n",
        "print(f\"Total Possible Roots: {total_roots}\")"
      ],
      "metadata": {
        "colab": {
          "base_uri": "https://localhost:8080/"
        },
        "id": "W4kTaeRHt0OR",
        "outputId": "675d4dbd-2b59-4a88-df22-ccb75e930da7"
      },
      "execution_count": null,
      "outputs": [
        {
          "output_type": "stream",
          "name": "stdout",
          "text": [
            "Mean: 1.16\n",
            "Standard Deviation: 0.88\n",
            "Skewness: -0.32\n",
            "Kurtosis: -1.64\n",
            "Total Possible Roots: 6\n"
          ]
        }
      ]
    },
    {
      "cell_type": "code",
      "source": [
        "'''This cell outputs a bar graph with (0 to # of homogeneous points) on the\n",
        "x-axis, and the number of polynomials on the y-axis. '''\n",
        "\n",
        "bucket_counts = []\n",
        "\n",
        "# Count the number of polynomials with each number of roots\n",
        "for i in range(max_roots + 1):\n",
        "    bucket_counts.append(zero_dist.count(i))\n",
        "\n",
        "# Create x and y values for the bar chart\n",
        "x = np.arange(max_roots + 1)\n",
        "y = np.array(bucket_counts)\n",
        "\n",
        "# Plot the bar chart\n",
        "plt.figure(figsize=(16, 8))  # Adjust the figsize as desired\n",
        "plt.bar(x, y)\n",
        "plt.xlabel('Number of Roots')\n",
        "plt.ylabel('Number of Polynomials')\n",
        "plt.title('Distribution of Polynomial Roots')\n",
        "plt.xticks(x)\n",
        "\n",
        "# Show the plot\n",
        "plt.show()\n",
        "\n",
        "# 6/12: p = 2 d = 4 n = 3 gives a normal distribution (32,767 polynomials). Seems true in general when p = 2, d => 3, n => 2."
      ],
      "metadata": {
        "colab": {
          "base_uri": "https://localhost:8080/",
          "height": 718
        },
        "id": "EzSYto3QGO4L",
        "outputId": "05e25964-e96d-4069-f1aa-626fc3f10ae1"
      },
      "execution_count": null,
      "outputs": [
        {
          "output_type": "display_data",
          "data": {
            "text/plain": [
              "<Figure size 1600x800 with 1 Axes>"
            ],
            "image/png": "[encoded data removed]"
          },
          "metadata": {}
        }
      ]
    }
  ]
}